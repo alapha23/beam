{
 "cells": [
  {
   "cell_type": "code",
   "execution_count": 19,
   "id": "1bf351a2",
   "metadata": {},
   "outputs": [],
   "source": [
    "import pandas as pd"
   ]
  },
  {
   "cell_type": "code",
   "execution_count": 20,
   "id": "ec6d0876",
   "metadata": {},
   "outputs": [],
   "source": [
    "data_names = ['AC', 'AM', 'AY', 'BA', 'Caltrain', 'CC', 'CE', 'CM', 'CT', 'DE', 'EM', 'GG', 'HF', 'MA'\n",
    "             'PE', 'RV', 'SC', 'SF', 'SM', 'SO', 'SR', 'ST', 'VC', 'VN', 'VT', 'WC', 'WH']"
   ]
  },
  {
   "cell_type": "code",
   "execution_count": 21,
   "id": "41777b62",
   "metadata": {},
   "outputs": [],
   "source": [
    "data1 = pd.read_csv('3D/stops.txt')"
   ]
  },
  {
   "cell_type": "code",
   "execution_count": null,
   "id": "a27a335d",
   "metadata": {},
   "outputs": [],
   "source": [
    "for data in data_names:\n",
    "    data2 = pd.read_csv('')"
   ]
  }
 ],
 "metadata": {
  "kernelspec": {
   "display_name": "Python 3 (ipykernel)",
   "language": "python",
   "name": "python3"
  },
  "language_info": {
   "codemirror_mode": {
    "name": "ipython",
    "version": 3
   },
   "file_extension": ".py",
   "mimetype": "text/x-python",
   "name": "python",
   "nbconvert_exporter": "python",
   "pygments_lexer": "ipython3",
   "version": "3.9.9"
  }
 },
 "nbformat": 4,
 "nbformat_minor": 5
}
